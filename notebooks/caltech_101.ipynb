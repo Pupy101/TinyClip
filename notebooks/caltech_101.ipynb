{
 "cells": [
  {
   "cell_type": "code",
   "execution_count": 1,
   "metadata": {},
   "outputs": [],
   "source": [
    "import sys\n",
    "sys.path.append(\"..\")\n",
    "\n",
    "import torch\n",
    "import pandas as pd\n",
    "from PIL import Image\n",
    "from tqdm import tqdm\n",
    "\n",
    "from src.inference import ClipInference"
   ]
  },
  {
   "cell_type": "code",
   "execution_count": 2,
   "metadata": {},
   "outputs": [
    {
     "name": "stderr",
     "output_type": "stream",
     "text": [
      "Some weights of SwinForImageClassification were not initialized from the model checkpoint at microsoft/swin-tiny-patch4-window7-224 and are newly initialized because the shapes did not match:\n",
      "- classifier.bias: found shape torch.Size([1000]) in the checkpoint and torch.Size([128]) in the model instantiated\n",
      "- classifier.weight: found shape torch.Size([1000, 768]) in the checkpoint and torch.Size([128, 768]) in the model instantiated\n",
      "You should probably TRAIN this model on a down-stream task to be able to use it for predictions and inference.\n",
      "Some weights of BertForSequenceClassification were not initialized from the model checkpoint at cointegrated/rubert-tiny2 and are newly initialized: ['classifier.weight', 'classifier.bias']\n",
      "You should probably TRAIN this model on a down-stream task to be able to use it for predictions and inference.\n",
      "Could not find image processor class in the image processor config or the model config. Loading based on pattern matching with the model's feature extractor configuration.\n"
     ]
    }
   ],
   "source": [
    "clip = ClipInference(\"microsoft/swin-tiny-patch4-window7-224\", \"cointegrated/rubert-tiny2\", 128)"
   ]
  },
  {
   "cell_type": "code",
   "execution_count": 3,
   "metadata": {},
   "outputs": [
    {
     "data": {
      "text/plain": [
       "<All keys matched successfully>"
      ]
     },
     "execution_count": 3,
     "metadata": {},
     "output_type": "execute_result"
    }
   ],
   "source": [
    "clip.load(\"/data/sporkhun/TinyClip/logs/train-swin-rubert-distil/runs/2023-10-21_04-25-16/checkpoints/last.ckpt\", lightning=True)"
   ]
  },
  {
   "cell_type": "code",
   "execution_count": 4,
   "metadata": {},
   "outputs": [
    {
     "data": {
      "text/plain": [
       "Clip(\n",
       "  (image_encoder): SwinForImageClassification(\n",
       "    (swin): SwinModel(\n",
       "      (embeddings): SwinEmbeddings(\n",
       "        (patch_embeddings): SwinPatchEmbeddings(\n",
       "          (projection): Conv2d(3, 96, kernel_size=(4, 4), stride=(4, 4))\n",
       "        )\n",
       "        (norm): LayerNorm((96,), eps=1e-05, elementwise_affine=True)\n",
       "        (dropout): Dropout(p=0.0, inplace=False)\n",
       "      )\n",
       "      (encoder): SwinEncoder(\n",
       "        (layers): ModuleList(\n",
       "          (0): SwinStage(\n",
       "            (blocks): ModuleList(\n",
       "              (0-1): 2 x SwinLayer(\n",
       "                (layernorm_before): LayerNorm((96,), eps=1e-05, elementwise_affine=True)\n",
       "                (attention): SwinAttention(\n",
       "                  (self): SwinSelfAttention(\n",
       "                    (query): Linear(in_features=96, out_features=96, bias=True)\n",
       "                    (key): Linear(in_features=96, out_features=96, bias=True)\n",
       "                    (value): Linear(in_features=96, out_features=96, bias=True)\n",
       "                    (dropout): Dropout(p=0.0, inplace=False)\n",
       "                  )\n",
       "                  (output): SwinSelfOutput(\n",
       "                    (dense): Linear(in_features=96, out_features=96, bias=True)\n",
       "                    (dropout): Dropout(p=0.0, inplace=False)\n",
       "                  )\n",
       "                )\n",
       "                (drop_path): SwinDropPath(p=0.1)\n",
       "                (layernorm_after): LayerNorm((96,), eps=1e-05, elementwise_affine=True)\n",
       "                (intermediate): SwinIntermediate(\n",
       "                  (dense): Linear(in_features=96, out_features=384, bias=True)\n",
       "                  (intermediate_act_fn): GELUActivation()\n",
       "                )\n",
       "                (output): SwinOutput(\n",
       "                  (dense): Linear(in_features=384, out_features=96, bias=True)\n",
       "                  (dropout): Dropout(p=0.0, inplace=False)\n",
       "                )\n",
       "              )\n",
       "            )\n",
       "            (downsample): SwinPatchMerging(\n",
       "              (reduction): Linear(in_features=384, out_features=192, bias=False)\n",
       "              (norm): LayerNorm((384,), eps=1e-05, elementwise_affine=True)\n",
       "            )\n",
       "          )\n",
       "          (1): SwinStage(\n",
       "            (blocks): ModuleList(\n",
       "              (0-1): 2 x SwinLayer(\n",
       "                (layernorm_before): LayerNorm((192,), eps=1e-05, elementwise_affine=True)\n",
       "                (attention): SwinAttention(\n",
       "                  (self): SwinSelfAttention(\n",
       "                    (query): Linear(in_features=192, out_features=192, bias=True)\n",
       "                    (key): Linear(in_features=192, out_features=192, bias=True)\n",
       "                    (value): Linear(in_features=192, out_features=192, bias=True)\n",
       "                    (dropout): Dropout(p=0.0, inplace=False)\n",
       "                  )\n",
       "                  (output): SwinSelfOutput(\n",
       "                    (dense): Linear(in_features=192, out_features=192, bias=True)\n",
       "                    (dropout): Dropout(p=0.0, inplace=False)\n",
       "                  )\n",
       "                )\n",
       "                (drop_path): SwinDropPath(p=0.1)\n",
       "                (layernorm_after): LayerNorm((192,), eps=1e-05, elementwise_affine=True)\n",
       "                (intermediate): SwinIntermediate(\n",
       "                  (dense): Linear(in_features=192, out_features=768, bias=True)\n",
       "                  (intermediate_act_fn): GELUActivation()\n",
       "                )\n",
       "                (output): SwinOutput(\n",
       "                  (dense): Linear(in_features=768, out_features=192, bias=True)\n",
       "                  (dropout): Dropout(p=0.0, inplace=False)\n",
       "                )\n",
       "              )\n",
       "            )\n",
       "            (downsample): SwinPatchMerging(\n",
       "              (reduction): Linear(in_features=768, out_features=384, bias=False)\n",
       "              (norm): LayerNorm((768,), eps=1e-05, elementwise_affine=True)\n",
       "            )\n",
       "          )\n",
       "          (2): SwinStage(\n",
       "            (blocks): ModuleList(\n",
       "              (0-5): 6 x SwinLayer(\n",
       "                (layernorm_before): LayerNorm((384,), eps=1e-05, elementwise_affine=True)\n",
       "                (attention): SwinAttention(\n",
       "                  (self): SwinSelfAttention(\n",
       "                    (query): Linear(in_features=384, out_features=384, bias=True)\n",
       "                    (key): Linear(in_features=384, out_features=384, bias=True)\n",
       "                    (value): Linear(in_features=384, out_features=384, bias=True)\n",
       "                    (dropout): Dropout(p=0.0, inplace=False)\n",
       "                  )\n",
       "                  (output): SwinSelfOutput(\n",
       "                    (dense): Linear(in_features=384, out_features=384, bias=True)\n",
       "                    (dropout): Dropout(p=0.0, inplace=False)\n",
       "                  )\n",
       "                )\n",
       "                (drop_path): SwinDropPath(p=0.1)\n",
       "                (layernorm_after): LayerNorm((384,), eps=1e-05, elementwise_affine=True)\n",
       "                (intermediate): SwinIntermediate(\n",
       "                  (dense): Linear(in_features=384, out_features=1536, bias=True)\n",
       "                  (intermediate_act_fn): GELUActivation()\n",
       "                )\n",
       "                (output): SwinOutput(\n",
       "                  (dense): Linear(in_features=1536, out_features=384, bias=True)\n",
       "                  (dropout): Dropout(p=0.0, inplace=False)\n",
       "                )\n",
       "              )\n",
       "            )\n",
       "            (downsample): SwinPatchMerging(\n",
       "              (reduction): Linear(in_features=1536, out_features=768, bias=False)\n",
       "              (norm): LayerNorm((1536,), eps=1e-05, elementwise_affine=True)\n",
       "            )\n",
       "          )\n",
       "          (3): SwinStage(\n",
       "            (blocks): ModuleList(\n",
       "              (0-1): 2 x SwinLayer(\n",
       "                (layernorm_before): LayerNorm((768,), eps=1e-05, elementwise_affine=True)\n",
       "                (attention): SwinAttention(\n",
       "                  (self): SwinSelfAttention(\n",
       "                    (query): Linear(in_features=768, out_features=768, bias=True)\n",
       "                    (key): Linear(in_features=768, out_features=768, bias=True)\n",
       "                    (value): Linear(in_features=768, out_features=768, bias=True)\n",
       "                    (dropout): Dropout(p=0.0, inplace=False)\n",
       "                  )\n",
       "                  (output): SwinSelfOutput(\n",
       "                    (dense): Linear(in_features=768, out_features=768, bias=True)\n",
       "                    (dropout): Dropout(p=0.0, inplace=False)\n",
       "                  )\n",
       "                )\n",
       "                (drop_path): SwinDropPath(p=0.1)\n",
       "                (layernorm_after): LayerNorm((768,), eps=1e-05, elementwise_affine=True)\n",
       "                (intermediate): SwinIntermediate(\n",
       "                  (dense): Linear(in_features=768, out_features=3072, bias=True)\n",
       "                  (intermediate_act_fn): GELUActivation()\n",
       "                )\n",
       "                (output): SwinOutput(\n",
       "                  (dense): Linear(in_features=3072, out_features=768, bias=True)\n",
       "                  (dropout): Dropout(p=0.0, inplace=False)\n",
       "                )\n",
       "              )\n",
       "            )\n",
       "          )\n",
       "        )\n",
       "      )\n",
       "      (layernorm): LayerNorm((768,), eps=1e-05, elementwise_affine=True)\n",
       "      (pooler): AdaptiveAvgPool1d(output_size=1)\n",
       "    )\n",
       "    (classifier): Linear(in_features=768, out_features=128, bias=True)\n",
       "  )\n",
       "  (text_encoder): BertForSequenceClassification(\n",
       "    (bert): BertModel(\n",
       "      (embeddings): BertEmbeddings(\n",
       "        (word_embeddings): Embedding(83828, 312, padding_idx=0)\n",
       "        (position_embeddings): Embedding(2048, 312)\n",
       "        (token_type_embeddings): Embedding(2, 312)\n",
       "        (LayerNorm): LayerNorm((312,), eps=1e-12, elementwise_affine=True)\n",
       "        (dropout): Dropout(p=0.1, inplace=False)\n",
       "      )\n",
       "      (encoder): BertEncoder(\n",
       "        (layer): ModuleList(\n",
       "          (0-2): 3 x BertLayer(\n",
       "            (attention): BertAttention(\n",
       "              (self): BertSelfAttention(\n",
       "                (query): Linear(in_features=312, out_features=312, bias=True)\n",
       "                (key): Linear(in_features=312, out_features=312, bias=True)\n",
       "                (value): Linear(in_features=312, out_features=312, bias=True)\n",
       "                (dropout): Dropout(p=0.1, inplace=False)\n",
       "              )\n",
       "              (output): BertSelfOutput(\n",
       "                (dense): Linear(in_features=312, out_features=312, bias=True)\n",
       "                (LayerNorm): LayerNorm((312,), eps=1e-12, elementwise_affine=True)\n",
       "                (dropout): Dropout(p=0.1, inplace=False)\n",
       "              )\n",
       "            )\n",
       "            (intermediate): BertIntermediate(\n",
       "              (dense): Linear(in_features=312, out_features=600, bias=True)\n",
       "              (intermediate_act_fn): GELUActivation()\n",
       "            )\n",
       "            (output): BertOutput(\n",
       "              (dense): Linear(in_features=600, out_features=312, bias=True)\n",
       "              (LayerNorm): LayerNorm((312,), eps=1e-12, elementwise_affine=True)\n",
       "              (dropout): Dropout(p=0.1, inplace=False)\n",
       "            )\n",
       "          )\n",
       "        )\n",
       "      )\n",
       "      (pooler): BertPooler(\n",
       "        (dense): Linear(in_features=312, out_features=312, bias=True)\n",
       "        (activation): Tanh()\n",
       "      )\n",
       "    )\n",
       "    (dropout): Dropout(p=0.1, inplace=False)\n",
       "    (classifier): Linear(in_features=312, out_features=128, bias=True)\n",
       "  )\n",
       ")"
      ]
     },
     "execution_count": 4,
     "metadata": {},
     "output_type": "execute_result"
    }
   ],
   "source": [
    "clip.clip.to(\"cuda:0\")"
   ]
  },
  {
   "cell_type": "code",
   "execution_count": 5,
   "metadata": {},
   "outputs": [
    {
     "data": {
      "text/html": [
       "<div>\n",
       "<style scoped>\n",
       "    .dataframe tbody tr th:only-of-type {\n",
       "        vertical-align: middle;\n",
       "    }\n",
       "\n",
       "    .dataframe tbody tr th {\n",
       "        vertical-align: top;\n",
       "    }\n",
       "\n",
       "    .dataframe thead th {\n",
       "        text-align: right;\n",
       "    }\n",
       "</style>\n",
       "<table border=\"1\" class=\"dataframe\">\n",
       "  <thead>\n",
       "    <tr style=\"text-align: right;\">\n",
       "      <th></th>\n",
       "      <th>image</th>\n",
       "      <th>label</th>\n",
       "    </tr>\n",
       "  </thead>\n",
       "  <tbody>\n",
       "    <tr>\n",
       "      <th>0</th>\n",
       "      <td>/data/sporkhun/clip/caltech_101/caltech101/101...</td>\n",
       "      <td>Faces</td>\n",
       "    </tr>\n",
       "    <tr>\n",
       "      <th>1</th>\n",
       "      <td>/data/sporkhun/clip/caltech_101/caltech101/101...</td>\n",
       "      <td>Faces</td>\n",
       "    </tr>\n",
       "    <tr>\n",
       "      <th>2</th>\n",
       "      <td>/data/sporkhun/clip/caltech_101/caltech101/101...</td>\n",
       "      <td>Faces</td>\n",
       "    </tr>\n",
       "    <tr>\n",
       "      <th>3</th>\n",
       "      <td>/data/sporkhun/clip/caltech_101/caltech101/101...</td>\n",
       "      <td>Faces</td>\n",
       "    </tr>\n",
       "    <tr>\n",
       "      <th>4</th>\n",
       "      <td>/data/sporkhun/clip/caltech_101/caltech101/101...</td>\n",
       "      <td>Faces</td>\n",
       "    </tr>\n",
       "  </tbody>\n",
       "</table>\n",
       "</div>"
      ],
      "text/plain": [
       "                                               image  label\n",
       "0  /data/sporkhun/clip/caltech_101/caltech101/101...  Faces\n",
       "1  /data/sporkhun/clip/caltech_101/caltech101/101...  Faces\n",
       "2  /data/sporkhun/clip/caltech_101/caltech101/101...  Faces\n",
       "3  /data/sporkhun/clip/caltech_101/caltech101/101...  Faces\n",
       "4  /data/sporkhun/clip/caltech_101/caltech101/101...  Faces"
      ]
     },
     "execution_count": 5,
     "metadata": {},
     "output_type": "execute_result"
    }
   ],
   "source": [
    "eval_df = pd.read_csv(\"/data/sporkhun/TinyClip/data/eval/caltech_101.tsv\", sep=\"\\t\", index_col=0)\n",
    "eval_df.label = eval_df.label.apply(lambda _: _.split(\"/\")[-2])\n",
    "index = eval_df.image.apply(lambda _: len(Image.open(_).mode) == 3)\n",
    "eval_df = eval_df[index]\n",
    "eval_df.head()"
   ]
  },
  {
   "cell_type": "code",
   "execution_count": 6,
   "metadata": {},
   "outputs": [
    {
     "name": "stderr",
     "output_type": "stream",
     "text": [
      "8296it [01:14, 111.86it/s]\n",
      "100%|██████████| 100/100 [00:00<00:00, 1001027.21it/s]\n"
     ]
    }
   ],
   "source": [
    "batch_size = 120\n",
    "\n",
    "batch_images = []\n",
    "embedding_images = []\n",
    "\n",
    "for i, row in tqdm(eval_df.iterrows()):\n",
    "    if len(batch_images) > batch_size:\n",
    "        embedding_images.append(clip.forward_image(images=batch_images).detach().cpu())\n",
    "        batch_images = []\n",
    "    batch_images.append(Image.open(row.image))\n",
    "if batch_images:\n",
    "    embedding_images.append(clip.forward_image(images=batch_images).detach().cpu())\n",
    "\n",
    "batch_texts = []\n",
    "embedding_texts = []\n",
    "for text in tqdm(eval_df.label.unique().tolist()):\n",
    "    if len(batch_texts) > batch_size:\n",
    "        embedding_texts.append(clip.forward_text(texts=batch_texts).detach().cpu())\n",
    "    batch_texts.append(text)\n",
    "if batch_texts:\n",
    "    embedding_texts.append(clip.forward_text(texts=batch_texts).detach().cpu())"
   ]
  },
  {
   "cell_type": "code",
   "execution_count": 7,
   "metadata": {},
   "outputs": [
    {
     "data": {
      "text/plain": [
       "torch.Size([100, 128])"
      ]
     },
     "execution_count": 7,
     "metadata": {},
     "output_type": "execute_result"
    }
   ],
   "source": [
    "assert len(embedding_texts) == 1\n",
    "label2index = {l: i for i, l in enumerate(batch_texts)}\n",
    "all_text_emb = embedding_texts[0]\n",
    "all_text_emb.shape"
   ]
  },
  {
   "cell_type": "code",
   "execution_count": 8,
   "metadata": {},
   "outputs": [
    {
     "data": {
      "text/plain": [
       "torch.Size([8296, 128])"
      ]
     },
     "execution_count": 8,
     "metadata": {},
     "output_type": "execute_result"
    }
   ],
   "source": [
    "all_img_emb = torch.cat(embedding_images, dim=0)\n",
    "all_img_emb.shape"
   ]
  },
  {
   "cell_type": "code",
   "execution_count": 9,
   "metadata": {},
   "outputs": [],
   "source": [
    "predicts = clip.predict(all_img_emb, all_text_emb).detach().cpu()"
   ]
  },
  {
   "cell_type": "code",
   "execution_count": 10,
   "metadata": {},
   "outputs": [
    {
     "data": {
      "text/plain": [
       "tensor([93, 58, 93,  ..., 19, 18, 13])"
      ]
     },
     "execution_count": 10,
     "metadata": {},
     "output_type": "execute_result"
    }
   ],
   "source": [
    "predicts"
   ]
  },
  {
   "cell_type": "code",
   "execution_count": 11,
   "metadata": {},
   "outputs": [],
   "source": [
    "label = eval_df.label.apply(lambda _: label2index[_]).tolist()"
   ]
  },
  {
   "cell_type": "code",
   "execution_count": 12,
   "metadata": {},
   "outputs": [
    {
     "data": {
      "text/plain": [
       "0.47866441658630665"
      ]
     },
     "execution_count": 12,
     "metadata": {},
     "output_type": "execute_result"
    }
   ],
   "source": [
    "sum(p == l for p, l in zip(predicts.tolist(), label)) / len(label)"
   ]
  },
  {
   "cell_type": "code",
   "execution_count": null,
   "metadata": {},
   "outputs": [],
   "source": []
  }
 ],
 "metadata": {
  "kernelspec": {
   "display_name": "venv",
   "language": "python",
   "name": "python3"
  },
  "language_info": {
   "codemirror_mode": {
    "name": "ipython",
    "version": 3
   },
   "file_extension": ".py",
   "mimetype": "text/x-python",
   "name": "python",
   "nbconvert_exporter": "python",
   "pygments_lexer": "ipython3",
   "version": "3.11.4"
  }
 },
 "nbformat": 4,
 "nbformat_minor": 2
}
